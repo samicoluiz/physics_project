{
 "cells": [
  {
   "cell_type": "code",
   "execution_count": 11,
   "metadata": {},
   "outputs": [],
   "source": [
    "import numpy as np"
   ]
  },
  {
   "cell_type": "code",
   "execution_count": 1,
   "metadata": {},
   "outputs": [],
   "source": [
    "class Particula():\n",
    "    def __init__(self, q, unidade='C', pos=0):\n",
    "        self.q = q*10**-9 if unidade == 'nC' else q*10**-6 if unidade == 'uc' else q*10**-3 if unidade == 'mC' else q\n",
    "        self.pos = pos\n",
    "        self.posCampo = [] # Apagar caso não seja utilizado\n",
    "        pass\n",
    "\n",
    "    def __str__(self):\n",
    "        return f'A carga elétrica desta particula é {self.q} e\\\n",
    " a sua posição é {\"na origem\" if self.pos==0 else self.pos}.'\n",
    "\n",
    "    def campoEletrico(self, r):\n",
    "        print(self.q)\n",
    "        return ((9*10**9)*self.q)/((r)**2)\n",
    "\n",
    "    # Esta equação está correta desde que a partícula esteja na origem.\n",
    "    # verificar a fórmula para a possibilidade de calcular a distancia como abs(self.pos - r),\n",
    "    # sendo r Ex, Ey e Ez. Assim, a função será mais generalista.\n",
    "    def vCampoEletrico(self, Ex, Ey, Ez):\n",
    "        return self.campoEletrico(Ex) + self.campoEletrico(Ey) + self.campoEletrico(Ez)"
   ]
  },
  {
   "cell_type": "code",
   "execution_count": 2,
   "metadata": {},
   "outputs": [],
   "source": [
    "def fEntreCargas(Q, q, r, cosAlpha=None):\n",
    "    return ((9*10**9)*Q*q)/r**2\n",
    "\n",
    "# Módulo do campo elétrico resultante\n",
    "def cER(vCampo1, vCampo2, angulo):\n",
    "    # Resultante de campos elétricos paralelos\n",
    "    if angulo == 0:\n",
    "        return vCampo1 + vCampo2\n",
    "    elif angulo == 180:\n",
    "        return vCampo1 - vCampo2\n",
    "    elif angulo == 90:\n",
    "        # Na hora de anotar lembrar de colocar a raiz\n",
    "        return (vCampo1**2) + (vCampo2**2)\n",
    "    else:\n",
    "        return (vCampo1**2) + (vCampo2**2) + 2*vCampo1*vCampo2*cosAlpha\n",
    "    pass"
   ]
  },
  {
   "cell_type": "code",
   "execution_count": 16,
   "metadata": {},
   "outputs": [
    {
     "name": "stdout",
     "output_type": "stream",
     "text": [
      "6.708203932499369\n"
     ]
    }
   ],
   "source": [
    "def calcDist(coordOrigin, coordDestin):\n",
    "    dist = [(coordOrigin[i] - coordDestin[i])**2 for i in range(len(coordOrigin))]\n",
    "    return np.sqrt(sum(dist))\n",
    "print(calcDist([4, -8, -9], [2, -3, -5]))    #resultado é aprox. 6.7"
   ]
  },
  {
   "cell_type": "code",
   "execution_count": 3,
   "metadata": {},
   "outputs": [
    {
     "name": "stdout",
     "output_type": "stream",
     "text": [
      "A carga elétrica desta particula é 0.01 e a sua posição é na origem.\n"
     ]
    }
   ],
   "source": [
    "h20 = Particula(10, 'mC')\n",
    "coords = [-0.2, -0.2, -0.2]\n",
    "print(h20)"
   ]
  },
  {
   "cell_type": "code",
   "execution_count": null,
   "metadata": {},
   "outputs": [
    {
     "name": "stdout",
     "output_type": "stream",
     "text": [
      "6.708203932499369\n"
     ]
    }
   ],
   "source": [
    "def calcDist(coordOrigin, coordDestin):\n",
    "    dist = [(coordOrigin[i] - coordDestin[i])**2 for i in range(len(coordOrigin))]\n",
    "    return np.sqrt(sum(dist))\n",
    "\n",
    "print(calcDist([4, -8, -9], [2, -3, -5]))    #O resultado é aprox. 6.7"
   ]
  },
  {
   "cell_type": "code",
   "execution_count": null,
   "metadata": {},
   "outputs": [
    {
     "name": "stdout",
     "output_type": "stream",
     "text": [
      "90.0\n"
     ]
    }
   ],
   "source": [
    "def fElet(q1, q2, r):\n",
    "    k = 9e9\n",
    "    forEletr = (k*q1*q2)/(r**2)\n",
    "    return forEletr\n",
    "\n",
    "print(fElet(3e-6, 3e-6, 0.03))    #O resultado é 90"
   ]
  },
  {
   "cell_type": "code",
   "execution_count": null,
   "metadata": {},
   "outputs": [
    {
     "name": "stdout",
     "output_type": "stream",
     "text": [
      "3e-06 0.5 108000.0 0.324\n"
     ]
    }
   ],
   "source": [
    "def cElet(E=None, *, Q, r):\n",
    "    \"\"\" Recebe:\n",
    "    E = um número para a intensidade do campo elétrico (opcional) em Newtons/Coulomb\n",
    "    Q = um número para a intensidade de carga elétrica geradora em Coulombs\n",
    "    r = distância onde se irá medir o valor do campo elétrico em metros\n",
    "    \n",
    "    Retorna uma tupla (Q, r, E, F) onde:\n",
    "    Q = Intensidade da carga elétrica geradora em Coulombs\n",
    "    r = Distância em metros\n",
    "    E = Intensidade do Campo elétrico em Newtons/Coulomb\n",
    "    F = Força elétrica em Newtons\n",
    "    \"\"\"\n",
    "    k = 9e9\n",
    "    if E == None:\n",
    "        return Q, r, (k*abs(Q))/(r**2), (k*abs(Q))/(r**2) * Q\n",
    "    elif r == None:\n",
    "        return Q, (k*abs(Q))/(E), E, E * Q\n",
    "    else:\n",
    "        return (E*(r**2))/(k), r, E, E * Q\n",
    "\n",
    "Q, r, E, F = cElet(E=None, Q=3e-6, r=0.5)\n",
    "print(Q, r, E, F)"
   ]
  },
  {
   "cell_type": "code",
   "execution_count": null,
   "metadata": {},
   "outputs": [
    {
     "name": "stdout",
     "output_type": "stream",
     "text": [
      "8e-06\n"
     ]
    }
   ],
   "source": [
    "#Para encontrar a carga Q do corpúsculo no ponto de origem -> Q = (F*q)/(k*E)\n",
    "print((576e-3 * (0.5**2))/(9e9*2e-6))"
   ]
  },
  {
   "cell_type": "code",
   "execution_count": null,
   "metadata": {},
   "outputs": [
    {
     "name": "stdout",
     "output_type": "stream",
     "text": [
      "288000.0\n"
     ]
    }
   ],
   "source": [
    "def feq(F=None, *, E, Q):\n",
    "    if F == None:\n",
    "        return E*Q\n",
    "    elif E == None:\n",
    "        return F/Q\n",
    "    else:\n",
    "        return F/E\n",
    "\n",
    "print(feq(F=576e-3, E=None, Q=2e-6))    #O resultado é 0.8e3"
   ]
  }
 ],
 "metadata": {
  "kernelspec": {
   "display_name": "Python 3.9.7 ('base')",
   "language": "python",
   "name": "python3"
  },
  "language_info": {
   "codemirror_mode": {
    "name": "ipython",
    "version": 3
   },
   "file_extension": ".py",
   "mimetype": "text/x-python",
   "name": "python",
   "nbconvert_exporter": "python",
   "pygments_lexer": "ipython3",
   "version": "3.9.7"
  },
  "orig_nbformat": 4,
  "vscode": {
   "interpreter": {
    "hash": "88279d2366fe020547cde40dd65aa0e3aa662a6ec1f3ca12d88834876c85e1a6"
   }
  }
 },
 "nbformat": 4,
 "nbformat_minor": 2
}
