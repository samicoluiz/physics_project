{
 "cells": [
  {
   "cell_type": "markdown",
   "metadata": {},
   "source": [
    "# Universidade Federal do Pará\n",
    "## Faculdade de Computação\n",
    "## Professor: Elinei Santos\n",
    "## Aluno: Luiz Sérgio Samico Maciel Filho\n",
    "## **Primeira Lista Avaliativa**"
   ]
  },
  {
   "cell_type": "code",
   "execution_count": 107,
   "metadata": {},
   "outputs": [],
   "source": [
    "import numpy as np\n",
    "import matplotlib.pyplot as plt"
   ]
  },
  {
   "cell_type": "code",
   "execution_count": 106,
   "metadata": {},
   "outputs": [
    {
     "name": "stdout",
     "output_type": "stream",
     "text": [
      "Ex =  2.2E+06\n",
      "\n",
      "Ey =  2.9E+06\n",
      "\n",
      "Módulo do campo elétrico =  3.6E+06 N/C\n",
      "\n",
      "O cosseno entre o campo e o eixo x = 0.93º\n"
     ]
    }
   ],
   "source": [
    "# Cálculo do vetor campo elétrico de uma carga pontual\n",
    "def Ev(coordPtCampo, coordCargaPt, q):\n",
    "    K=9e9\n",
    "    x, y, z = coordPtCampo\n",
    "    xq, yq, zq = coordCargaPt\n",
    "    ex=(K*q)*(x-xq)/((x-xq)**2.+(y-yq)**2.+(z-zq)**2)**1.5\n",
    "    ey=(K*q)*(y-yq)/((x-xq)**2.+(y-yq)**2.+(z-zq)**2)**1.5\n",
    "    ez=(K*q)*(z-zq)/((x-xq)**2.+(y-yq)**2.+(z-zq)**2)**1.5\n",
    "    return ex, ey, ez\n",
    "\n",
    "coord1 = (0, 0.04, 0)\n",
    "coord2 = (-0.03, 0, 0)\n",
    "\n",
    "Ex, Ey, Ez = Ev(coord1, coord2, 1.e-6)\n",
    "\n",
    "Et=(Ex**2+Ey**2+Ez**2)**0.5\n",
    "cost=np.arccos(Ex/Et)\n",
    "\n",
    "print(f'Ex = {Ex: .1E}\\n')\n",
    "print(f'Ey = {Ey: .1E}\\n')\n",
    "print(f'Módulo do campo elétrico = {Et: .1E} N/C\\n')\n",
    "print(f'O cosseno entre o campo e o eixo x = {cost:.2f}º')"
   ]
  },
  {
   "cell_type": "code",
   "execution_count": 103,
   "metadata": {},
   "outputs": [
    {
     "name": "stdout",
     "output_type": "stream",
     "text": [
      "[[0.002 0.002 0.002]\n",
      " [0.002 0.    0.002]\n",
      " [0.    0.002 0.002]\n",
      " [0.    0.    0.002]\n",
      " [0.002 0.002 0.   ]\n",
      " [0.002 0.    0.   ]\n",
      " [0.    0.002 0.   ]\n",
      " [0.    0.    0.   ]]\n"
     ]
    }
   ],
   "source": [
    "# Criando um array com as coordenadas de cada um dos vertices do cubo\n",
    "cube = np.array(np.meshgrid([2e-3, 0], [2e-3, 0], [2e-3, 0])).T.reshape(-1,3)\n",
    "print(cube)"
   ]
  },
  {
   "cell_type": "code",
   "execution_count": 105,
   "metadata": {},
   "outputs": [
    {
     "name": "stdout",
     "output_type": "stream",
     "text": [
      "O vetor campo elétrico resultante no ponto A = -8.5E+06i + -8.5E+06j + -8.5E+06k\n",
      "O módulo do vetor campo elétrico resultante = 1.5E+07.\n"
     ]
    }
   ],
   "source": [
    "# Usando o princípio da superposição para calcular o campo elétrico resultante no ponto A\n",
    "Extot = 0\n",
    "Eytot = 0\n",
    "Eztot = 0\n",
    "q = 2e-9\n",
    "\n",
    "for v in cube[1:]:\n",
    "    Ex, Ey, Ez = Ev(v, cube[0], q)\n",
    "    cost=np.arccos(Exx/Et)\n",
    "    Extot += Ex\n",
    "    Eytot += Ey\n",
    "    Eztot += Ez\n",
    "    Et=(Extot**2+Eytot**2+Eztot**2)**0.5\n",
    "Etot = (Extot**2+Eytot**2+Eztot**2)**0.5\n",
    "\n",
    "print(f'O vetor campo elétrico resultante no ponto A = {Extot: .1E}i + {Eytot: .1E}j + {Eztot: .1E}k')\n",
    "print(f'O módulo do vetor campo elétrico resultante ={Etot: .1E}.')"
   ]
  }
 ],
 "metadata": {
  "kernelspec": {
   "display_name": "Python 3.9.7 ('base')",
   "language": "python",
   "name": "python3"
  },
  "language_info": {
   "codemirror_mode": {
    "name": "ipython",
    "version": 3
   },
   "file_extension": ".py",
   "mimetype": "text/x-python",
   "name": "python",
   "nbconvert_exporter": "python",
   "pygments_lexer": "ipython3",
   "version": "3.9.7"
  },
  "orig_nbformat": 4,
  "vscode": {
   "interpreter": {
    "hash": "88279d2366fe020547cde40dd65aa0e3aa662a6ec1f3ca12d88834876c85e1a6"
   }
  }
 },
 "nbformat": 4,
 "nbformat_minor": 2
}
