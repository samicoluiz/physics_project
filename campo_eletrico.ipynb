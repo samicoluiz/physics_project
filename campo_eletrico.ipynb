{
 "cells": [
  {
   "cell_type": "markdown",
   "metadata": {},
   "source": [
    "**UNIVERSIDADE FEDERAL DO PARÁ**\n",
    "\n",
    "Faculdade de Computação\n",
    "\n",
    "Professor: Elinei Santos\n",
    "\n",
    "Aluno: Luiz Sérgio Samico Maciel Filho\n",
    "\n",
    "**Primeira Lista Avaliativa**\n",
    "\n",
    "---"
   ]
  },
  {
   "cell_type": "markdown",
   "metadata": {},
   "source": [
    "#### 1ª Questão: \n",
    "\n",
    "Uma partícula com carga +2 nC (1 nanocoulomb é $1\\times10^{-9}$) está localizada na origem. Qual é o campo elétrico devido a essa partícula na posição: (-0,2; -0,2; -0,2) m?\n",
    "\n",
    "#### Solução\n",
    "\n",
    "O campo elétrico, $\\vec{E}$, em um determinado ponto no espaço é dado pela equação $$\\vec{F}=q\\vec{E} \\tag{1},$$ onde $q$ é a carga da partícula na origem.\n",
    "\n",
    "Se o campo varia de um ponto ao outro, ele pode ser escrito matemáticamente como um vetor em função da posição, escrito na forma:\n",
    "$$ \\vec{E}(x,y,z) = E_x(x,y,z)\\hat{x} + E_y(x,y,z)\\hat{y} + E_z(x,y,z)\\hat{z}, \\tag{2}$$\n",
    "\n",
    "onde $E_x$, $E_y$ e $E_z$ são as componentes de $\\vec{E}$, e $x$, $y$ e $z$ são as cordenadas cartesianas do ponto em relação a um sistema de coordenadas. É comum que $ \\vec{E}(x,y,z) $ seja representado como $ \\vec{E}(\\vec{r})$, onde $\\vec{r}$ é o vetor do ponto de origem até o ponto onde o campo deve ser determinado.\n",
    "\n",
    "De modo que, considerando a equação da Lei de Coulomb ao longo do vetor unitário $\\hat{r}$ $$ \\vec{F}=k_e\\frac{q_1 q_2}{r^2}\\hat{r}, \\tag{3}$$ onde a partícula de carga $q_2$ está na origem e a partícula de carga $q_1$ está no fim do vetor posição $\\vec{r}$, e combinando com a Equação (1), temos $$ \\vec{E}(\\vec{r})=k_e \\frac{q_2}{r^2}\\hat{r}. \\tag{4}$$\n",
    "\n",
    "Reescrevendo, temos $$ \\vec{E}=k_e \\frac{Q}{R^2}\\hat{R}= \\frac{Q}{R^2}\\frac{\\vec{R}}{R}. \\tag{5} $$\n",
    "\n",
    "Assim, considerando a magnitude $R$ composta pelos componentes de $\\vec{R}$ ($R_x$, $R_y$ e $R_z$), onde $$ \\vec{R} = \\vec{r} - \\vec{r}_Q, \\tag{6}$$ em que $r_Q$ é a posição da carga pontual e $\\vec{r}$ é a posição onde desejamos calcular o campo elétrico, temos que $$ R = [(x-x_q)^2 + (y-y_q)^2 + (z-z_q)^2]^{\\frac{1}{2}}. \\tag{7}$$\n",
    "\n",
    "E, portanto, podemos reescrever a Equação (5) como $$ \\vec{E}=k_e \\left( \\frac{Q}{R^2}\\right)\\hat{E}, \\tag{8} $$ onde $$ \\hat{E}=\\left( \\frac{x-x_Q}{R}\\right)\\hat{x} + \\left( \\frac{y-y_Q}{R}\\right)\\hat{y} + \\left( \\frac{z-z_Q}{R}\\right)\\hat{z}, \\tag{9}$$ com $R$ definido na Equação (7).\n",
    "\n",
    "##### Equação para obter o vetor campo elétrico\n",
    "\n",
    "Finalmente, podemos escrever a equação para obter o vetor campo elétrico em determinada coordenada $(x, y, z)$ decorrente de uma partícula nas coordenadas $(xq, yq, zq)$: $$ \\vec{E}=k_e\\frac{Q}{R^2}\\left[ \\frac{x-x_Q}{[(x-x_q)^2 + (y-y_q)^2 + (z-z_q)^2]^{\\frac{1}{2}}}\\hat{x} + \\frac{y-y_Q}{[(x-x_q)^2 + (y-y_q)^2 + (z-z_q)^2]^{\\frac{1}{2}}}\\hat{y} + \\frac{z-z_Q}{[(x-x_q)^2 + (y-y_q)^2 + (z-z_q)^2]^{\\frac{1}{2}}}\\hat{z}\\right]. \\tag{10} $$\n",
    "\n",
    "##### Equação para obter o módulo do vetor campo elétrico\n",
    "\n",
    "Lembrando que a equação para obter o módulo do vetor campo elétrico é $$ E = \\sqrt{Ex^2+Ey^2+Ez^2} \\tag{11}$$\n",
    "\n",
    "O código em Python que determina o campo elétrico na posição (-0,2; -0,2; -0,2) devido a uma partícula, na origem, de carga $2\\mu C$ é descrito a seguir.\n"
   ]
  },
  {
   "cell_type": "code",
   "execution_count": 24,
   "metadata": {},
   "outputs": [],
   "source": [
    "import numpy as np\n",
    "import matplotlib.pyplot as plt"
   ]
  },
  {
   "cell_type": "code",
   "execution_count": 25,
   "metadata": {},
   "outputs": [
    {
     "name": "stdout",
     "output_type": "stream",
     "text": [
      "O vetor campo elétrico resultante no ponto (-0.2, -0.2, -0.2) é: (-4.3E+04x̂) + (-4.3E+04ŷ) + (-4.3E+04ẑ).\n",
      "O módulo do vetor campo elétrico resultante no ponto (-0.2, -0.2, -0.2) é: 7.5E+04\n"
     ]
    }
   ],
   "source": [
    "# Função para encontrar o vetor campo elétrico\n",
    "def Ev(q, rq, r):\n",
    "    k = 9e9\n",
    "    x, y, z = r\n",
    "    xq, yq, zq = rq\n",
    "    R = ((x-xq)**2 + (y-yq)**2 + (z-zq)**2)**0.5\n",
    "    ex = (k*(q/(R**2)))*(x-xq)/(R)\n",
    "    ey = (k*(q/(R**2)))*(y-yq)/(R)\n",
    "    ez = (k*(q/(R**2)))*(z-zq)/(R)\n",
    "    E = np.sqrt(ex**2 + ey**2 + ez**2)\n",
    "    return ex, ey, ez, E\n",
    "\n",
    "r = (-0.2, -0.2, -0.2)\n",
    "rq = (0, 0, 0)\n",
    "q = 1e-6\n",
    "\n",
    "Ex1, Ey1, Ez1, E1 = Ev(q, rq, r)\n",
    "\n",
    "print(f'O vetor campo elétrico resultante no ponto {r} é: ({Ex1:.1E}x\\u0302) + ({Ey1:.1E}y\\u0302) + ({Ez1:.1E}z\\u0302).')\n",
    "print(f'O módulo do vetor campo elétrico resultante no ponto {r} é: {E1:.1E}')\n"
   ]
  },
  {
   "cell_type": "markdown",
   "metadata": {},
   "source": [
    "#### Resposta\n",
    "De acordo com o resultado do programa, podemos escrever que o vetor campo elétrico resultante no ponto é: $$ \\vec{E}=-4,3\\times 10^4\\hat{x} + -4,3\\times 10^4\\hat{y} + -4,3\\times 10^4\\hat{z} \\text{ }N/C,$$ e que o módulo do vetor campo elétrico no ponto é $$ E=7,5 \\times 10^4 N/C$$"
   ]
  },
  {
   "cell_type": "markdown",
   "metadata": {},
   "source": [
    "#### 2ª Questão:\n",
    "Descobriu-se que o campo elétrico na posição: $(-0,13; 0,14; 0)$ m é $\\vec{E}=6,48 \\times 10^3 \\hat{i} + 8,64 \\times 10^3 \\hat{j} \\text{ } N/C$. A única partícula carregada no encontro tem carga -3nc. Qual a posição desta partícula (vetor que localiza a partícula).\n",
    "\n",
    "#### Solução\n",
    "A intensidade do campo elétrico em um ponto é dado pela equação $$ E = k \\frac{Q}{r^2} \\tag{12}.$$ Dado que a questão fornece os valores para $Ex$ e $Ey$, podemos calcular $E$ por meio da Equação (11). Substituindo os valores de $Q$ fornecidos pela questão, e da constante eletrostática no vácuo $k=9 \\times 10^9$, podemos descobrir $r$.\n",
    "\n",
    "Sabemos também que o cosseno e o seno do ângulo $\\theta$ entre o vetor campo elétrico e a horizontal do plano podem ser escritos como $$\\cos{\\theta}=\\frac{x-x_q}{r} \\text{  e  } \\sin{\\theta}=\\frac{y-y_q}{r}, \\tag{13}$$ e que o ângulo $\\theta$ pode ser calculado através da equação: $$\\theta = arccos(\\frac{E_x}{E}) \\tag{14}.$$\n",
    "\n",
    "Por fim, de posse de todas as variáveis necessárias para isolar $x_q$ e $y_q$, podemos descobrir seus valores. O código em Python que realiza esse cálculo é descrito a seguir."
   ]
  },
  {
   "cell_type": "code",
   "execution_count": 59,
   "metadata": {},
   "outputs": [
    {
     "name": "stdout",
     "output_type": "stream",
     "text": [
      "E = 10800.0\n",
      "r = 0.05\n",
      "theta = 0.9272952180016123\n",
      "seno theta = 0.016183648164375206\n",
      "cosseno theta = 0.6\n",
      "xq = -0.1\n",
      "yq = 0.18000000000000002\n",
      "Nas coordenadas calculadas para xq e yq, Ex = 6.48E+03 e Ey = 8.64E+03\n"
     ]
    }
   ],
   "source": [
    "# Função para aplicação da Equação (12)\n",
    "def cElet(E=None, *, Q, r):\n",
    "    \"\"\" Recebe n-1 parâmetros, onde os parâmetros são:\n",
    "    E = um número para a intensidade do campo elétrico em Newtons/Coulomb\n",
    "    Q = um número para a intensidade de carga elétrica geradora em Coulombs\n",
    "    r = distância onde se irá medir o valor do campo elétrico em metros\n",
    "    \n",
    "    Retorna uma tupla (Q, r, E, F) onde:\n",
    "    Q = Intensidade da carga elétrica geradora em Coulombs\n",
    "    r = Distância em metros\n",
    "    E = Intensidade do Campo elétrico em Newtons/Coulomb\n",
    "    F = Força elétrica em Newtons\n",
    "    \"\"\"\n",
    "    k = 9e9\n",
    "    if E == None:\n",
    "        return Q, r, (k*abs(Q))/(r**2), (k*abs(Q))/(r**2) * Q\n",
    "    elif r == None:\n",
    "        return Q, ((k*abs(Q))/(E))**0.5, E, E * Q\n",
    "    else:\n",
    "        return (E*(r**2))/(k), r, E, E * Q\n",
    "# Variáveis fornecidas pela questão\n",
    "Ex2 = 6.48e3\n",
    "Ey2 = 8.64e3\n",
    "rv2 = (-0.13, 0.14, 0)\n",
    "x2, y2, z2 = rv2\n",
    "# xq2, yq2, zq2 = ()\n",
    "q2 = -3e-9\n",
    "\n",
    "# Descobrindo E a partir de seus vetores componentes (Equação (11))\n",
    "E2 = np.sqrt(Ex2**2 + Ey2**2)\n",
    "print(f'E = {E2}')\n",
    "\n",
    "# Descobrindo r\n",
    "r2 = cElet(E=E2, Q=q, r=None)[1]\n",
    "print(f'r = {r2}')\n",
    "\n",
    "# Descobrindo theta, seno de theta e cosseno de theta\n",
    "theta2 = np.arccos(Ex2/E2)\n",
    "sentheta2, costheta2 = (np.sin(theta2), np.cos(theta2))\n",
    "print(f'theta = {theta2}\\nseno theta = {senTheta2}\\ncosseno theta = {costheta2}')\n",
    "\n",
    "# Trabalhando a equação (13) nós temos que:\n",
    "## Descobrindo xq\n",
    "xq2 = (costheta2*r2)+x2\n",
    "print(f'xq = {xq2}')\n",
    "\n",
    "## Descobrindo yq\n",
    "yq2 = (sentheta2*r2)+y2\n",
    "print(f'yq = {yq2}')\n",
    "\n",
    "# Coordenadas da partícula (considerando que z=0)\n",
    "rqv2 = (xq2, yq2, 0)\n",
    "xq2, yq2, zq2 = rqv2\n",
    "\n",
    "# Conferindo o resultado por meio da função Ev()\n",
    "Ex2r, Ey2r, _, Er = Ev(q2, rqv2, rv2)\n",
    "print(f'Nas coordenadas calculadas para xq e yq, Ex = {Ex2r:.2E} e Ey = {Ey2r:.2E}')\n"
   ]
  },
  {
   "cell_type": "code",
   "execution_count": 36,
   "metadata": {},
   "outputs": [
    {
     "name": "stdout",
     "output_type": "stream",
     "text": [
      "[0.83644866]\n",
      "34.666666666666664\n",
      "2161512.8111731824\n",
      "2878864.770553526\n",
      "0.600420225325884\n",
      "0.7996846584870906\n",
      "6479.999999999998 8640.0 10799.999999999998\n"
     ]
    }
   ],
   "source": [
    "#rascunho\n",
    "\n",
    "def theta(Ex, E):\n",
    "    return np.arccos([Ex/E]) # O raciocínio ta certo!!!!!!!!!!!!!!!!!!!!!!\n",
    "\n",
    "Ett = np.sqrt(2.6e6**2 + 2.88e6**2)\n",
    "Exxx = 2.6e6\n",
    "print(np.arccos([Exxx/Ett]))\n",
    "print(2.6e6/7.5e4)\n",
    "print(3.6e6*np.cos(np.radians(53.1))) # componente x^\n",
    "print(3.6e6*np.sin(np.radians(53.1))) # componente y^\n",
    "\n",
    "print(np.cos(np.radians(53.1)))\n",
    "print(np.sin(np.radians(53.1)))\n",
    "\n",
    "Ext, Eyt, Ezt, Etr = Ev(q=abs(-3e-9), rq=(-0.16, 0.1, 0), r=(-0.13, 0.14, 0))\n",
    "\n",
    "print(Ext, Eyt, Etr)"
   ]
  },
  {
   "cell_type": "markdown",
   "metadata": {},
   "source": [
    "#### 3ª Questão"
   ]
  },
  {
   "cell_type": "code",
   "execution_count": null,
   "metadata": {},
   "outputs": [],
   "source": []
  },
  {
   "cell_type": "markdown",
   "metadata": {},
   "source": [
    "#### 4ª Questão"
   ]
  },
  {
   "cell_type": "code",
   "execution_count": null,
   "metadata": {},
   "outputs": [
    {
     "name": "stdout",
     "output_type": "stream",
     "text": [
      "[[0.002 0.002 0.002]\n",
      " [0.002 0.    0.002]\n",
      " [0.    0.002 0.002]\n",
      " [0.    0.    0.002]\n",
      " [0.002 0.002 0.   ]\n",
      " [0.002 0.    0.   ]\n",
      " [0.    0.002 0.   ]\n",
      " [0.    0.    0.   ]]\n"
     ]
    }
   ],
   "source": [
    "# Criando um array com as coordenadas de cada um dos vertices do cubo\n",
    "cube = np.array(np.meshgrid([2e-3, 0], [2e-3, 0], [2e-3, 0])).T.reshape(-1,3)\n",
    "print(cube)"
   ]
  },
  {
   "cell_type": "code",
   "execution_count": null,
   "metadata": {},
   "outputs": [
    {
     "ename": "TypeError",
     "evalue": "cannot unpack non-iterable float object",
     "output_type": "error",
     "traceback": [
      "\u001b[1;31m---------------------------------------------------------------------------\u001b[0m",
      "\u001b[1;31mTypeError\u001b[0m                                 Traceback (most recent call last)",
      "\u001b[1;32m~\\AppData\\Local\\Temp/ipykernel_24200/217439362.py\u001b[0m in \u001b[0;36m<module>\u001b[1;34m\u001b[0m\n\u001b[0;32m      6\u001b[0m \u001b[1;33m\u001b[0m\u001b[0m\n\u001b[0;32m      7\u001b[0m \u001b[1;32mfor\u001b[0m \u001b[0mv\u001b[0m \u001b[1;32min\u001b[0m \u001b[0mcube\u001b[0m\u001b[1;33m[\u001b[0m\u001b[1;36m1\u001b[0m\u001b[1;33m:\u001b[0m\u001b[1;33m]\u001b[0m\u001b[1;33m:\u001b[0m\u001b[1;33m\u001b[0m\u001b[1;33m\u001b[0m\u001b[0m\n\u001b[1;32m----> 8\u001b[1;33m     \u001b[0mEx\u001b[0m\u001b[1;33m,\u001b[0m \u001b[0mEy\u001b[0m\u001b[1;33m,\u001b[0m \u001b[0mEz\u001b[0m \u001b[1;33m=\u001b[0m \u001b[0mEv\u001b[0m\u001b[1;33m(\u001b[0m\u001b[0mv\u001b[0m\u001b[1;33m,\u001b[0m \u001b[0mcube\u001b[0m\u001b[1;33m[\u001b[0m\u001b[1;36m0\u001b[0m\u001b[1;33m]\u001b[0m\u001b[1;33m,\u001b[0m \u001b[0mq\u001b[0m\u001b[1;33m)\u001b[0m\u001b[1;33m\u001b[0m\u001b[1;33m\u001b[0m\u001b[0m\n\u001b[0m\u001b[0;32m      9\u001b[0m     \u001b[0mcost\u001b[0m\u001b[1;33m=\u001b[0m\u001b[0mnp\u001b[0m\u001b[1;33m.\u001b[0m\u001b[0marccos\u001b[0m\u001b[1;33m(\u001b[0m\u001b[0mExx\u001b[0m\u001b[1;33m/\u001b[0m\u001b[0mEt\u001b[0m\u001b[1;33m)\u001b[0m\u001b[1;33m\u001b[0m\u001b[1;33m\u001b[0m\u001b[0m\n\u001b[0;32m     10\u001b[0m     \u001b[0mExtot\u001b[0m \u001b[1;33m+=\u001b[0m \u001b[0mEx\u001b[0m\u001b[1;33m\u001b[0m\u001b[1;33m\u001b[0m\u001b[0m\n",
      "\u001b[1;32m~\\AppData\\Local\\Temp/ipykernel_24200/2794781022.py\u001b[0m in \u001b[0;36mEv\u001b[1;34m(q, rq, r)\u001b[0m\n\u001b[0;32m      1\u001b[0m \u001b[1;32mdef\u001b[0m \u001b[0mEv\u001b[0m\u001b[1;33m(\u001b[0m\u001b[0mq\u001b[0m\u001b[1;33m,\u001b[0m \u001b[0mrq\u001b[0m\u001b[1;33m,\u001b[0m \u001b[0mr\u001b[0m\u001b[1;33m)\u001b[0m\u001b[1;33m:\u001b[0m\u001b[1;33m\u001b[0m\u001b[1;33m\u001b[0m\u001b[0m\n\u001b[0;32m      2\u001b[0m     \u001b[0mk\u001b[0m \u001b[1;33m=\u001b[0m \u001b[1;36m9e9\u001b[0m\u001b[1;33m\u001b[0m\u001b[1;33m\u001b[0m\u001b[0m\n\u001b[1;32m----> 3\u001b[1;33m     \u001b[0mx\u001b[0m\u001b[1;33m,\u001b[0m \u001b[0my\u001b[0m\u001b[1;33m,\u001b[0m \u001b[0mz\u001b[0m \u001b[1;33m=\u001b[0m \u001b[0mr\u001b[0m\u001b[1;33m\u001b[0m\u001b[1;33m\u001b[0m\u001b[0m\n\u001b[0m\u001b[0;32m      4\u001b[0m     \u001b[0mxq\u001b[0m\u001b[1;33m,\u001b[0m \u001b[0myq\u001b[0m\u001b[1;33m,\u001b[0m \u001b[0mzq\u001b[0m \u001b[1;33m=\u001b[0m \u001b[0mrq\u001b[0m\u001b[1;33m\u001b[0m\u001b[1;33m\u001b[0m\u001b[0m\n\u001b[0;32m      5\u001b[0m     \u001b[0mR\u001b[0m \u001b[1;33m=\u001b[0m \u001b[1;33m(\u001b[0m\u001b[1;33m(\u001b[0m\u001b[0mx\u001b[0m\u001b[1;33m-\u001b[0m\u001b[0mxq\u001b[0m\u001b[1;33m)\u001b[0m\u001b[1;33m**\u001b[0m\u001b[1;36m2\u001b[0m \u001b[1;33m+\u001b[0m \u001b[1;33m(\u001b[0m\u001b[0my\u001b[0m\u001b[1;33m-\u001b[0m\u001b[0myq\u001b[0m\u001b[1;33m)\u001b[0m\u001b[1;33m**\u001b[0m\u001b[1;36m2\u001b[0m \u001b[1;33m+\u001b[0m \u001b[1;33m(\u001b[0m\u001b[0mz\u001b[0m\u001b[1;33m-\u001b[0m\u001b[0mzq\u001b[0m\u001b[1;33m)\u001b[0m\u001b[1;33m**\u001b[0m\u001b[1;36m2\u001b[0m\u001b[1;33m)\u001b[0m\u001b[1;33m**\u001b[0m\u001b[1;36m0.5\u001b[0m\u001b[1;33m\u001b[0m\u001b[1;33m\u001b[0m\u001b[0m\n",
      "\u001b[1;31mTypeError\u001b[0m: cannot unpack non-iterable float object"
     ]
    }
   ],
   "source": [
    "# Usando o princípio da superposição para calcular o campo elétrico resultante no ponto A\n",
    "Extot = 0\n",
    "Eytot = 0\n",
    "Eztot = 0\n",
    "q = 2e-9\n",
    "\n",
    "for v in cube[1:]:\n",
    "    Ex, Ey, Ez = Ev(v, cube[0], q)\n",
    "    cost=np.arccos(Exx/Et)\n",
    "    Extot += Ex\n",
    "    Eytot += Ey\n",
    "    Eztot += Ez\n",
    "    Et=(Extot**2+Eytot**2+Eztot**2)**0.5\n",
    "Etot = (Extot**2+Eytot**2+Eztot**2)**0.5\n",
    "\n",
    "print(f'O vetor campo elétrico resultante no ponto A = {Extot: .1E}i + {Eytot: .1E}j + {Eztot: .1E}k')\n",
    "print(f'O módulo do vetor campo elétrico resultante ={Etot: .1E}.')"
   ]
  }
 ],
 "metadata": {
  "kernelspec": {
   "display_name": "Python 3.9.7 ('base')",
   "language": "python",
   "name": "python3"
  },
  "language_info": {
   "codemirror_mode": {
    "name": "ipython",
    "version": 3
   },
   "file_extension": ".py",
   "mimetype": "text/x-python",
   "name": "python",
   "nbconvert_exporter": "python",
   "pygments_lexer": "ipython3",
   "version": "3.9.7"
  },
  "orig_nbformat": 4,
  "vscode": {
   "interpreter": {
    "hash": "88279d2366fe020547cde40dd65aa0e3aa662a6ec1f3ca12d88834876c85e1a6"
   }
  }
 },
 "nbformat": 4,
 "nbformat_minor": 2
}
