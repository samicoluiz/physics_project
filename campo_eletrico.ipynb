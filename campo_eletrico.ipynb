{
 "cells": [
  {
   "cell_type": "markdown",
   "metadata": {},
   "source": [
    "**UNIVERSIDADE FEDERAL DO PARÁ**\n",
    "\n",
    "Faculdade de Computação\n",
    "\n",
    "Professor: Elinei Santos\n",
    "\n",
    "Aluno: Luiz Sérgio Samico Maciel Filho\n",
    "\n",
    "**Primeira Lista Avaliativa**\n",
    "\n",
    "---"
   ]
  },
  {
   "cell_type": "markdown",
   "metadata": {},
   "source": [
    "#### 1ª Questão: \n",
    "\n",
    "Uma partícula com carga +2 nC (1 nanocoulomb é $1\\times10^{-9}$) está localizada na origem. Qual é o campo elétrico devido a essa partícula na posição: (-0,2; -0,2; -0,2) m?\n",
    "\n",
    "#### Solução\n",
    "\n",
    "O campo elétrico, $\\vec{E}$, em um determinado ponto no espaço é dado pela equação $$\\vec{F}=q\\vec{E} \\tag{1},$$ onde $q$ é a carga da partícula na origem.\n",
    "\n",
    "Se o campo varia de um ponto ao outro, ele pode ser escrito matemáticamente como um vetor em função da posição, escrito na forma:\n",
    "$$ \\vec{E}(x,y,z) = E_x(x,y,z)\\hat{x} + E_y(x,y,z)\\hat{y} + E_z(x,y,z)\\hat{z}, \\tag{2}$$\n",
    "\n",
    "onde $E_x$, $E_y$ e $E_z$ são as componentes de $\\vec{E}$, e $x$, $y$ e $z$ são as cordenadas cartesianas do ponto em relação a um sistema de coordenadas. É comum que $ \\vec{E}(x,y,z) $ seja representado como $ \\vec{E}(\\vec{r})$, onde $\\vec{r}$ é o vetor do ponto de origem até o ponto onde o campo deve ser determinado.\n",
    "\n",
    "De modo que, considerando a equação da Lei de Coulomb ao longo do vetor unitário $\\hat{r}$ $$ \\vec{F}=k_e\\frac{q_1 q_2}{r^2}\\hat{r}, \\tag{3}$$ onde a partícula de carga $q_2$ está na origem e a partícula de carga $q_1$ está no fim do vetor posição $\\vec{r}$, e combinando com a Equação (1), temos $$ \\vec{E}(\\vec{r})=k_e \\frac{q_2}{r^2}\\hat{r}. \\tag{4}$$\n",
    "\n",
    "Reescrevendo, temos $$ \\vec{E}=k_e \\frac{Q}{R^2}\\hat{R}= \\frac{Q}{R^2}\\frac{\\vec{R}}{R}. \\tag{5} $$\n",
    "\n",
    "Assim, considerando a magnitude $R$ composta pelos componentes de $\\vec{R}$ ($R_x$, $R_y$ e $R_z$), onde $$ \\vec{R} = \\vec{r} - \\vec{r}_Q, \\tag{6}$$ em que $r_Q$ é a posição da carga pontual e $\\vec{r}$ é a posição onde desejamos calcular o campo elétrico, temos que $$ R = [(x-x_q)^2 + (y-y_q)^2 + (z-z_q)^2]^{\\frac{1}{2}}. \\tag{7}$$\n",
    "\n",
    "E, portanto, podemos reescrever a Equação (5) como $$ \\vec{E}=k_e \\left( \\frac{Q}{R^2}\\right)\\hat{E}, \\tag{8} $$ onde $$ \\hat{E}=\\left( \\frac{x-x_Q}{R}\\right)\\hat{x} + \\left( \\frac{y-y_Q}{R}\\right)\\hat{y} + \\left( \\frac{z-z_Q}{R}\\right)\\hat{z}, \\tag{9}$$ com $R$ definido na Equação (7).\n",
    "\n",
    "##### Equação para obter o vetor campo elétrico\n",
    "\n",
    "Finalmente, podemos escrever a equação para obter o vetor campo elétrico em determinada coordenada $(x, y, z)$ decorrente de uma partícula nas coordenadas $(xq, yq, zq)$: $$ \\vec{E}=k_e\\frac{Q}{R^2}\\left[ \\frac{x-x_Q}{[(x-x_q)^2 + (y-y_q)^2 + (z-z_q)^2]^{\\frac{1}{2}}}\\hat{x} + \\frac{y-y_Q}{[(x-x_q)^2 + (y-y_q)^2 + (z-z_q)^2]^{\\frac{1}{2}}}\\hat{y} + \\frac{z-z_Q}{[(x-x_q)^2 + (y-y_q)^2 + (z-z_q)^2]^{\\frac{1}{2}}}\\hat{z}\\right]. \\tag{10} $$\n",
    "\n",
    "##### Equação para obter o módulo do vetor campo elétrico\n",
    "\n",
    "Lembrando que a equação para obter o módulo do vetor campo elétrico é $$ E = \\sqrt{Ex^2+Ey^2+Ez^2} \\tag{11}$$\n",
    "\n",
    "O código em Python que determina o campo elétrico na posição (-0,2; -0,2; -0,2) devido a uma partícula, na origem, de carga $2\\mu C$ é descrito a seguir.\n"
   ]
  },
  {
   "cell_type": "code",
   "execution_count": 47,
   "metadata": {},
   "outputs": [],
   "source": [
    "import numpy as np\n",
    "import matplotlib.pyplot as plt"
   ]
  },
  {
   "cell_type": "code",
   "execution_count": 48,
   "metadata": {},
   "outputs": [
    {
     "name": "stdout",
     "output_type": "stream",
     "text": [
      "O vetor campo elétrico resultante no ponto (-0.2, -0.2, -0.2) é: (-4.3E+04x̂) + (-4.3E+04ŷ) + (-4.3E+04ẑ).\n",
      "O módulo do vetor campo elétrico resultante no ponto (-0.2, -0.2, -0.2) é: 7.5E+04\n"
     ]
    }
   ],
   "source": [
    "def Ev(q, rq, r):\n",
    "    k = 9e9\n",
    "    x, y, z = r\n",
    "    xq, yq, zq = rq\n",
    "    R = ((x-xq)**2 + (y-yq)**2 + (z-zq)**2)**0.5\n",
    "    ex = (k*(q/(R**2)))*(x-xq)/(R)\n",
    "    ey = (k*(q/(R**2)))*(y-yq)/(R)\n",
    "    ez = (k*(q/(R**2)))*(z-zq)/(R)\n",
    "    E = np.sqrt(ex**2 + ey**2 + ez**2)\n",
    "    return ex, ey, ez, E\n",
    "\n",
    "r = (-0.2, -0.2, -0.2)\n",
    "rq = (0, 0, 0)\n",
    "q = 1e-6\n",
    "\n",
    "Ex, Ey, Ez, E = Ev(q, rq, r)\n",
    "\n",
    "print(f'O vetor campo elétrico resultante no ponto {r} é: ({Ex:.1E}x\\u0302) + ({Ey:.1E}y\\u0302) + ({Ez:.1E}z\\u0302).')\n",
    "print(f'O módulo do vetor campo elétrico resultante no ponto {r} é: {E:.1E}')\n"
   ]
  },
  {
   "cell_type": "markdown",
   "metadata": {},
   "source": [
    "#### Resposta\n",
    "De acordo com o resultado do programa, podemos escrever que o vetor campo elétrico resultante no ponto é: $$ \\vec{E}=-4,3\\times 10^4\\hat{x} + -4,3\\times 10^4\\hat{y} + -4,3\\times 10^4\\hat{z} \\text{ }N/C,$$ e que o módulo do vetor campo elétrico no ponto é $$ E=7,5 \\times 10^4 N/C$$"
   ]
  },
  {
   "cell_type": "markdown",
   "metadata": {},
   "source": [
    "#### 2ª Questão:\n",
    "Descobriu-se que o campo elétrico na posição: $(-0,13; 0,14; 0)$ m é $\\vec{E}=6,48 \\times 10^3 \\hat{i} + 8,64 \\times 10^3 \\hat{j} \\text{ } N/C$. A única partícula carregada no encontro tem carga -3nc. Qual a posição desta partícula (vetor que localiza a partícula).\n",
    "\n",
    "#### Solução\n",
    "Sabemos que o ângulo entre o campo $\\vec{E}$ e a horizontal do ponto é dado por $$\\theta = arccos(\\frac{E_x}{E}) \\tag{12}$$"
   ]
  },
  {
   "cell_type": "code",
   "execution_count": 66,
   "metadata": {},
   "outputs": [
    {
     "name": "stdout",
     "output_type": "stream",
     "text": [
      "[0.83644866]\n",
      "34.666666666666664\n",
      "2161512.8111731824\n",
      "2878864.770553526\n",
      "0.600420225325884\n",
      "0.7996846584870906\n",
      "1.0\n"
     ]
    }
   ],
   "source": [
    "#rascunho\n",
    "\n",
    "def theta(Ex, E):\n",
    "    return np.arccos([Ex/E]) # O raciocínio ta certo!!!!!!!!!!!!!!!!!!!!!!\n",
    "\n",
    "Ett = np.sqrt(2.6e6**2 + 2.88e6**2)\n",
    "Exxx = 2.6e6\n",
    "print(np.arccos([Exxx/Ett]))\n",
    "print(2.6e6/7.5e4)\n",
    "print(3.6e6*np.cos(np.radians(53.1))) # componente x^\n",
    "print(3.6e6*np.sin(np.radians(53.1))) # componente y^\n",
    "\n",
    "print(np.cos(np.radians(53.1)))\n",
    "print(np.sin(np.radians(53.1)))\n",
    "\n",
    "hipotenusa = np.cos(np.radians(53.1))**2 + np.sin(np.radians(53.1))**2\n",
    "print(np.sqrt(hipotenusa))\n",
    "\n"
   ]
  },
  {
   "cell_type": "code",
   "execution_count": 50,
   "metadata": {},
   "outputs": [
    {
     "name": "stdout",
     "output_type": "stream",
     "text": [
      "[[0.002 0.002 0.002]\n",
      " [0.002 0.    0.002]\n",
      " [0.    0.002 0.002]\n",
      " [0.    0.    0.002]\n",
      " [0.002 0.002 0.   ]\n",
      " [0.002 0.    0.   ]\n",
      " [0.    0.002 0.   ]\n",
      " [0.    0.    0.   ]]\n"
     ]
    }
   ],
   "source": [
    "# Criando um array com as coordenadas de cada um dos vertices do cubo\n",
    "cube = np.array(np.meshgrid([2e-3, 0], [2e-3, 0], [2e-3, 0])).T.reshape(-1,3)\n",
    "print(cube)"
   ]
  },
  {
   "cell_type": "code",
   "execution_count": 51,
   "metadata": {},
   "outputs": [
    {
     "ename": "TypeError",
     "evalue": "cannot unpack non-iterable float object",
     "output_type": "error",
     "traceback": [
      "\u001b[1;31m---------------------------------------------------------------------------\u001b[0m",
      "\u001b[1;31mTypeError\u001b[0m                                 Traceback (most recent call last)",
      "\u001b[1;32m~\\AppData\\Local\\Temp/ipykernel_19152/217439362.py\u001b[0m in \u001b[0;36m<module>\u001b[1;34m\u001b[0m\n\u001b[0;32m      6\u001b[0m \u001b[1;33m\u001b[0m\u001b[0m\n\u001b[0;32m      7\u001b[0m \u001b[1;32mfor\u001b[0m \u001b[0mv\u001b[0m \u001b[1;32min\u001b[0m \u001b[0mcube\u001b[0m\u001b[1;33m[\u001b[0m\u001b[1;36m1\u001b[0m\u001b[1;33m:\u001b[0m\u001b[1;33m]\u001b[0m\u001b[1;33m:\u001b[0m\u001b[1;33m\u001b[0m\u001b[1;33m\u001b[0m\u001b[0m\n\u001b[1;32m----> 8\u001b[1;33m     \u001b[0mEx\u001b[0m\u001b[1;33m,\u001b[0m \u001b[0mEy\u001b[0m\u001b[1;33m,\u001b[0m \u001b[0mEz\u001b[0m \u001b[1;33m=\u001b[0m \u001b[0mEv\u001b[0m\u001b[1;33m(\u001b[0m\u001b[0mv\u001b[0m\u001b[1;33m,\u001b[0m \u001b[0mcube\u001b[0m\u001b[1;33m[\u001b[0m\u001b[1;36m0\u001b[0m\u001b[1;33m]\u001b[0m\u001b[1;33m,\u001b[0m \u001b[0mq\u001b[0m\u001b[1;33m)\u001b[0m\u001b[1;33m\u001b[0m\u001b[1;33m\u001b[0m\u001b[0m\n\u001b[0m\u001b[0;32m      9\u001b[0m     \u001b[0mcost\u001b[0m\u001b[1;33m=\u001b[0m\u001b[0mnp\u001b[0m\u001b[1;33m.\u001b[0m\u001b[0marccos\u001b[0m\u001b[1;33m(\u001b[0m\u001b[0mExx\u001b[0m\u001b[1;33m/\u001b[0m\u001b[0mEt\u001b[0m\u001b[1;33m)\u001b[0m\u001b[1;33m\u001b[0m\u001b[1;33m\u001b[0m\u001b[0m\n\u001b[0;32m     10\u001b[0m     \u001b[0mExtot\u001b[0m \u001b[1;33m+=\u001b[0m \u001b[0mEx\u001b[0m\u001b[1;33m\u001b[0m\u001b[1;33m\u001b[0m\u001b[0m\n",
      "\u001b[1;32m~\\AppData\\Local\\Temp/ipykernel_19152/2794781022.py\u001b[0m in \u001b[0;36mEv\u001b[1;34m(q, rq, r)\u001b[0m\n\u001b[0;32m      1\u001b[0m \u001b[1;32mdef\u001b[0m \u001b[0mEv\u001b[0m\u001b[1;33m(\u001b[0m\u001b[0mq\u001b[0m\u001b[1;33m,\u001b[0m \u001b[0mrq\u001b[0m\u001b[1;33m,\u001b[0m \u001b[0mr\u001b[0m\u001b[1;33m)\u001b[0m\u001b[1;33m:\u001b[0m\u001b[1;33m\u001b[0m\u001b[1;33m\u001b[0m\u001b[0m\n\u001b[0;32m      2\u001b[0m     \u001b[0mk\u001b[0m \u001b[1;33m=\u001b[0m \u001b[1;36m9e9\u001b[0m\u001b[1;33m\u001b[0m\u001b[1;33m\u001b[0m\u001b[0m\n\u001b[1;32m----> 3\u001b[1;33m     \u001b[0mx\u001b[0m\u001b[1;33m,\u001b[0m \u001b[0my\u001b[0m\u001b[1;33m,\u001b[0m \u001b[0mz\u001b[0m \u001b[1;33m=\u001b[0m \u001b[0mr\u001b[0m\u001b[1;33m\u001b[0m\u001b[1;33m\u001b[0m\u001b[0m\n\u001b[0m\u001b[0;32m      4\u001b[0m     \u001b[0mxq\u001b[0m\u001b[1;33m,\u001b[0m \u001b[0myq\u001b[0m\u001b[1;33m,\u001b[0m \u001b[0mzq\u001b[0m \u001b[1;33m=\u001b[0m \u001b[0mrq\u001b[0m\u001b[1;33m\u001b[0m\u001b[1;33m\u001b[0m\u001b[0m\n\u001b[0;32m      5\u001b[0m     \u001b[0mR\u001b[0m \u001b[1;33m=\u001b[0m \u001b[1;33m(\u001b[0m\u001b[1;33m(\u001b[0m\u001b[0mx\u001b[0m\u001b[1;33m-\u001b[0m\u001b[0mxq\u001b[0m\u001b[1;33m)\u001b[0m\u001b[1;33m**\u001b[0m\u001b[1;36m2\u001b[0m \u001b[1;33m+\u001b[0m \u001b[1;33m(\u001b[0m\u001b[0my\u001b[0m\u001b[1;33m-\u001b[0m\u001b[0myq\u001b[0m\u001b[1;33m)\u001b[0m\u001b[1;33m**\u001b[0m\u001b[1;36m2\u001b[0m \u001b[1;33m+\u001b[0m \u001b[1;33m(\u001b[0m\u001b[0mz\u001b[0m\u001b[1;33m-\u001b[0m\u001b[0mzq\u001b[0m\u001b[1;33m)\u001b[0m\u001b[1;33m**\u001b[0m\u001b[1;36m2\u001b[0m\u001b[1;33m)\u001b[0m\u001b[1;33m**\u001b[0m\u001b[1;36m0.5\u001b[0m\u001b[1;33m\u001b[0m\u001b[1;33m\u001b[0m\u001b[0m\n",
      "\u001b[1;31mTypeError\u001b[0m: cannot unpack non-iterable float object"
     ]
    }
   ],
   "source": [
    "# Usando o princípio da superposição para calcular o campo elétrico resultante no ponto A\n",
    "Extot = 0\n",
    "Eytot = 0\n",
    "Eztot = 0\n",
    "q = 2e-9\n",
    "\n",
    "for v in cube[1:]:\n",
    "    Ex, Ey, Ez = Ev(v, cube[0], q)\n",
    "    cost=np.arccos(Exx/Et)\n",
    "    Extot += Ex\n",
    "    Eytot += Ey\n",
    "    Eztot += Ez\n",
    "    Et=(Extot**2+Eytot**2+Eztot**2)**0.5\n",
    "Etot = (Extot**2+Eytot**2+Eztot**2)**0.5\n",
    "\n",
    "print(f'O vetor campo elétrico resultante no ponto A = {Extot: .1E}i + {Eytot: .1E}j + {Eztot: .1E}k')\n",
    "print(f'O módulo do vetor campo elétrico resultante ={Etot: .1E}.')"
   ]
  }
 ],
 "metadata": {
  "kernelspec": {
   "display_name": "Python 3.9.7 ('base')",
   "language": "python",
   "name": "python3"
  },
  "language_info": {
   "codemirror_mode": {
    "name": "ipython",
    "version": 3
   },
   "file_extension": ".py",
   "mimetype": "text/x-python",
   "name": "python",
   "nbconvert_exporter": "python",
   "pygments_lexer": "ipython3",
   "version": "3.9.7"
  },
  "orig_nbformat": 4,
  "vscode": {
   "interpreter": {
    "hash": "88279d2366fe020547cde40dd65aa0e3aa662a6ec1f3ca12d88834876c85e1a6"
   }
  }
 },
 "nbformat": 4,
 "nbformat_minor": 2
}
